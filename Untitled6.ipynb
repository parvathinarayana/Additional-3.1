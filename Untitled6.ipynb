{
 "cells": [
  {
   "cell_type": "markdown",
   "metadata": {},
   "source": [
    "#1"
   ]
  },
  {
   "cell_type": "code",
   "execution_count": 30,
   "metadata": {},
   "outputs": [
    {
     "name": "stdout",
     "output_type": "stream",
     "text": [
      "Enter cone raidus: 4\n",
      "Enter cone height: 5\n",
      "Area of the cone 83.7758040957278\n"
     ]
    }
   ],
   "source": [
    "import math\n",
    "class cone_i:\n",
    "    def __init__(self,radius,height):\n",
    "        self.radius=radius\n",
    "        self.height=height\n",
    "            \n",
    "    def c_area(self):\n",
    "        \n",
    "        l = math.sqrt(self.radius * self.radius + self.height * self.height)\n",
    "\n",
    "        \n",
    "        SA = math.pi * self.radius * (self.radius + l)\n",
    "\n",
    "        \n",
    "        Sarea = (1.0/3) * math.pi * self.radius * self.radius * self.height\n",
    "\n",
    "        \n",
    "        LSA = math.pi * self.radius  * l\n",
    "        return Sarea\n",
    "\n",
    "a=float(input('Enter cone raidus: '))\n",
    "b=float(input('Enter cone height: '))\n",
    "print('Area of the cone',cone_i(a,b).c_area())\n",
    "    "
   ]
  },
  {
   "cell_type": "markdown",
   "metadata": {},
   "source": [
    "#2"
   ]
  },
  {
   "cell_type": "code",
   "execution_count": null,
   "metadata": {},
   "outputs": [],
   "source": [
    "class n_power:\n",
    "    def __init__(self,num1,num2):\n",
    "        self.num1=num1\n",
    "        self.num2=num2\n",
    "        \n",
    "    def n_pow(self):\n",
    "        power = 1\n",
    "        for i in range(1, self.num2 + 1):\n",
    "            power = power * self.num1\n",
    "        return power\n",
    "\n",
    "number = int(input(\" Please Enter any Positive Integer : \"))\n",
    "exponent = int(input(\" Please Enter Exponent Value : \"))\n",
    "print(\"The Result of {0} Power {1}= \".format(number, exponent),n_power(number,exponent).n_pow())"
   ]
  },
  {
   "cell_type": "markdown",
   "metadata": {},
   "source": [
    "#3"
   ]
  },
  {
   "cell_type": "code",
   "execution_count": 21,
   "metadata": {},
   "outputs": [
    {
     "name": "stdout",
     "output_type": "stream",
     "text": [
      "True\n",
      "False\n",
      "False\n",
      "True\n"
     ]
    }
   ],
   "source": [
    "class Base(): \n",
    "    pass   \n",
    "  \n",
    "class Derived(Base): \n",
    "    pass    \n",
    "  \n",
    "print(issubclass(Derived, Base)) \n",
    "print(issubclass(Base, Derived))\n",
    "  \n",
    "d = Derived() \n",
    "b = Base() \n",
    "\n",
    "print(isinstance(b, Derived)) \n",
    "print(isinstance(d, Base))"
   ]
  },
  {
   "cell_type": "markdown",
   "metadata": {},
   "source": [
    "#4"
   ]
  },
  {
   "cell_type": "code",
   "execution_count": 22,
   "metadata": {},
   "outputs": [
    {
     "name": "stdout",
     "output_type": "stream",
     "text": [
      "Parvathi yadlapati\n",
      "Narayana Vamaraju\n"
     ]
    }
   ],
   "source": [
    "class Person:\n",
    "\n",
    "    def __init__(self, first, last):\n",
    "        self.firstname = first\n",
    "        self.lastname = last\n",
    "\n",
    "    def __str__(self):\n",
    "        return self.firstname + \" \" + self.lastname\n",
    "\n",
    "class Employee(Person):\n",
    "\n",
    "    def __init__(self, first, last):\n",
    "        super().__init__(first, last)\n",
    "        \n",
    "\n",
    "\n",
    "x = Person(\"Parvathi\", \"yadlapati\")\n",
    "y = Employee(\"Narayana\", \"Vamaraju\")\n",
    "\n",
    "print(x)\n",
    "print(y)"
   ]
  },
  {
   "cell_type": "code",
   "execution_count": null,
   "metadata": {},
   "outputs": [],
   "source": []
  }
 ],
 "metadata": {
  "kernelspec": {
   "display_name": "Python 3",
   "language": "python",
   "name": "python3"
  },
  "language_info": {
   "codemirror_mode": {
    "name": "ipython",
    "version": 3
   },
   "file_extension": ".py",
   "mimetype": "text/x-python",
   "name": "python",
   "nbconvert_exporter": "python",
   "pygments_lexer": "ipython3",
   "version": "3.7.0"
  }
 },
 "nbformat": 4,
 "nbformat_minor": 2
}
